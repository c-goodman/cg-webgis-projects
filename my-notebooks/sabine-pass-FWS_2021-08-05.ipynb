{
 "cells": [
  {
   "cell_type": "code",
   "execution_count": 1,
   "id": "ff976c45",
   "metadata": {},
   "outputs": [
    {
     "name": "stdout",
     "output_type": "stream",
     "text": [
      "Requirement already satisfied: leafmap in c:\\users\\cooper\\anaconda3\\envs\\geo\\lib\\site-packages (0.4.1)\n",
      "Requirement already satisfied: mss in c:\\users\\cooper\\anaconda3\\envs\\geo\\lib\\site-packages (from leafmap) (6.1.0)\n",
      "Requirement already satisfied: ipyevents<=0.9.0 in c:\\users\\cooper\\anaconda3\\envs\\geo\\lib\\site-packages (from leafmap) (0.9.0)\n",
      "Requirement already satisfied: pandas in c:\\users\\cooper\\anaconda3\\envs\\geo\\lib\\site-packages (from leafmap) (1.3.1)\n",
      "Requirement already satisfied: pycrs in c:\\users\\cooper\\anaconda3\\envs\\geo\\lib\\site-packages (from leafmap) (1.0.2)\n",
      "Requirement already satisfied: xyzservices in c:\\users\\cooper\\anaconda3\\envs\\geo\\lib\\site-packages (from leafmap) (2021.7.2)\n",
      "Requirement already satisfied: geojson in c:\\users\\cooper\\anaconda3\\envs\\geo\\lib\\site-packages (from leafmap) (2.5.0)\n",
      "Requirement already satisfied: googledrivedownloader in c:\\users\\cooper\\anaconda3\\envs\\geo\\lib\\site-packages (from leafmap) (0.4)\n",
      "Requirement already satisfied: bqplot in c:\\users\\cooper\\anaconda3\\envs\\geo\\lib\\site-packages (from leafmap) (0.12.30)\n",
      "Requirement already satisfied: folium>=0.12.0 in c:\\users\\cooper\\anaconda3\\envs\\geo\\lib\\site-packages (from leafmap) (0.12.1)\n",
      "Requirement already satisfied: numpy in c:\\users\\cooper\\anaconda3\\envs\\geo\\lib\\site-packages (from leafmap) (1.21.1)\n",
      "Requirement already satisfied: pyshp>=2.1.3 in c:\\users\\cooper\\anaconda3\\envs\\geo\\lib\\site-packages (from leafmap) (2.1.3)\n",
      "Requirement already satisfied: colour in c:\\users\\cooper\\anaconda3\\envs\\geo\\lib\\site-packages (from leafmap) (0.1.5)\n",
      "Requirement already satisfied: whiteboxgui in c:\\users\\cooper\\anaconda3\\envs\\geo\\lib\\site-packages (from leafmap) (0.3.0)\n",
      "Requirement already satisfied: here-map-widget-for-jupyter>=1.1.1 in c:\\users\\cooper\\anaconda3\\envs\\geo\\lib\\site-packages (from leafmap) (1.1.1)\n",
      "Requirement already satisfied: whitebox in c:\\users\\cooper\\anaconda3\\envs\\geo\\lib\\site-packages (from leafmap) (1.5.1)\n",
      "Requirement already satisfied: python-box in c:\\users\\cooper\\anaconda3\\envs\\geo\\lib\\site-packages (from leafmap) (5.3.0)\n",
      "Requirement already satisfied: ipyleaflet in c:\\users\\cooper\\anaconda3\\envs\\geo\\lib\\site-packages (from leafmap) (0.14.0)\n",
      "Requirement already satisfied: matplotlib in c:\\users\\cooper\\anaconda3\\envs\\geo\\lib\\site-packages (from leafmap) (3.4.2)\n",
      "Requirement already satisfied: jinja2>=2.9 in c:\\users\\cooper\\anaconda3\\envs\\geo\\lib\\site-packages (from folium>=0.12.0->leafmap) (3.0.1)\n",
      "Requirement already satisfied: requests in c:\\users\\cooper\\anaconda3\\envs\\geo\\lib\\site-packages (from folium>=0.12.0->leafmap) (2.26.0)\n",
      "Requirement already satisfied: branca>=0.3.0 in c:\\users\\cooper\\anaconda3\\envs\\geo\\lib\\site-packages (from folium>=0.12.0->leafmap) (0.4.2)\n",
      "Requirement already satisfied: ipywidgets<8,>=7.6.0 in c:\\users\\cooper\\anaconda3\\envs\\geo\\lib\\site-packages (from here-map-widget-for-jupyter>=1.1.1->leafmap) (7.6.3)\n",
      "Requirement already satisfied: nbformat>=4.2.0 in c:\\users\\cooper\\anaconda3\\envs\\geo\\lib\\site-packages (from ipywidgets<8,>=7.6.0->here-map-widget-for-jupyter>=1.1.1->leafmap) (5.1.3)\n",
      "Requirement already satisfied: ipykernel>=4.5.1 in c:\\users\\cooper\\anaconda3\\envs\\geo\\lib\\site-packages (from ipywidgets<8,>=7.6.0->here-map-widget-for-jupyter>=1.1.1->leafmap) (6.0.3)\n",
      "Requirement already satisfied: widgetsnbextension~=3.5.0 in c:\\users\\cooper\\anaconda3\\envs\\geo\\lib\\site-packages (from ipywidgets<8,>=7.6.0->here-map-widget-for-jupyter>=1.1.1->leafmap) (3.5.1)\n",
      "Requirement already satisfied: ipython>=4.0.0 in c:\\users\\cooper\\anaconda3\\envs\\geo\\lib\\site-packages (from ipywidgets<8,>=7.6.0->here-map-widget-for-jupyter>=1.1.1->leafmap) (7.26.0)\n",
      "Requirement already satisfied: traitlets>=4.3.1 in c:\\users\\cooper\\anaconda3\\envs\\geo\\lib\\site-packages (from ipywidgets<8,>=7.6.0->here-map-widget-for-jupyter>=1.1.1->leafmap) (5.0.5)\n",
      "Requirement already satisfied: jupyterlab-widgets>=1.0.0 in c:\\users\\cooper\\anaconda3\\envs\\geo\\lib\\site-packages (from ipywidgets<8,>=7.6.0->here-map-widget-for-jupyter>=1.1.1->leafmap) (1.0.0)\n",
      "Requirement already satisfied: debugpy<2.0,>=1.0.0 in c:\\users\\cooper\\anaconda3\\envs\\geo\\lib\\site-packages (from ipykernel>=4.5.1->ipywidgets<8,>=7.6.0->here-map-widget-for-jupyter>=1.1.1->leafmap) (1.4.1)\n",
      "Requirement already satisfied: matplotlib-inline<0.2.0,>=0.1.0 in c:\\users\\cooper\\anaconda3\\envs\\geo\\lib\\site-packages (from ipykernel>=4.5.1->ipywidgets<8,>=7.6.0->here-map-widget-for-jupyter>=1.1.1->leafmap) (0.1.2)\n",
      "Requirement already satisfied: jupyter-client<7.0 in c:\\users\\cooper\\anaconda3\\envs\\geo\\lib\\site-packages (from ipykernel>=4.5.1->ipywidgets<8,>=7.6.0->here-map-widget-for-jupyter>=1.1.1->leafmap) (6.1.12)\n",
      "Requirement already satisfied: tornado<7.0,>=4.2 in c:\\users\\cooper\\anaconda3\\envs\\geo\\lib\\site-packages (from ipykernel>=4.5.1->ipywidgets<8,>=7.6.0->here-map-widget-for-jupyter>=1.1.1->leafmap) (6.1)\n",
      "Requirement already satisfied: jedi>=0.16 in c:\\users\\cooper\\anaconda3\\envs\\geo\\lib\\site-packages (from ipython>=4.0.0->ipywidgets<8,>=7.6.0->here-map-widget-for-jupyter>=1.1.1->leafmap) (0.18.0)\n",
      "Requirement already satisfied: pickleshare in c:\\users\\cooper\\anaconda3\\envs\\geo\\lib\\site-packages (from ipython>=4.0.0->ipywidgets<8,>=7.6.0->here-map-widget-for-jupyter>=1.1.1->leafmap) (0.7.5)\n",
      "Requirement already satisfied: decorator in c:\\users\\cooper\\anaconda3\\envs\\geo\\lib\\site-packages (from ipython>=4.0.0->ipywidgets<8,>=7.6.0->here-map-widget-for-jupyter>=1.1.1->leafmap) (5.0.9)\n",
      "Requirement already satisfied: pygments in c:\\users\\cooper\\anaconda3\\envs\\geo\\lib\\site-packages (from ipython>=4.0.0->ipywidgets<8,>=7.6.0->here-map-widget-for-jupyter>=1.1.1->leafmap) (2.9.0)\n",
      "Requirement already satisfied: prompt-toolkit!=3.0.0,!=3.0.1,<3.1.0,>=2.0.0 in c:\\users\\cooper\\anaconda3\\envs\\geo\\lib\\site-packages (from ipython>=4.0.0->ipywidgets<8,>=7.6.0->here-map-widget-for-jupyter>=1.1.1->leafmap) (3.0.19)\n",
      "Requirement already satisfied: colorama in c:\\users\\cooper\\anaconda3\\envs\\geo\\lib\\site-packages (from ipython>=4.0.0->ipywidgets<8,>=7.6.0->here-map-widget-for-jupyter>=1.1.1->leafmap) (0.4.4)\n",
      "Requirement already satisfied: backcall in c:\\users\\cooper\\anaconda3\\envs\\geo\\lib\\site-packages (from ipython>=4.0.0->ipywidgets<8,>=7.6.0->here-map-widget-for-jupyter>=1.1.1->leafmap) (0.2.0)\n",
      "Requirement already satisfied: setuptools>=18.5 in c:\\users\\cooper\\anaconda3\\envs\\geo\\lib\\site-packages (from ipython>=4.0.0->ipywidgets<8,>=7.6.0->here-map-widget-for-jupyter>=1.1.1->leafmap) (49.6.0.post20210108)\n",
      "Requirement already satisfied: parso<0.9.0,>=0.8.0 in c:\\users\\cooper\\anaconda3\\envs\\geo\\lib\\site-packages (from jedi>=0.16->ipython>=4.0.0->ipywidgets<8,>=7.6.0->here-map-widget-for-jupyter>=1.1.1->leafmap) (0.8.2)\n",
      "Requirement already satisfied: MarkupSafe>=2.0 in c:\\users\\cooper\\anaconda3\\envs\\geo\\lib\\site-packages (from jinja2>=2.9->folium>=0.12.0->leafmap) (2.0.1)\n",
      "Requirement already satisfied: python-dateutil>=2.1 in c:\\users\\cooper\\anaconda3\\envs\\geo\\lib\\site-packages (from jupyter-client<7.0->ipykernel>=4.5.1->ipywidgets<8,>=7.6.0->here-map-widget-for-jupyter>=1.1.1->leafmap) (2.8.2)\n",
      "Requirement already satisfied: jupyter-core>=4.6.0 in c:\\users\\cooper\\anaconda3\\envs\\geo\\lib\\site-packages (from jupyter-client<7.0->ipykernel>=4.5.1->ipywidgets<8,>=7.6.0->here-map-widget-for-jupyter>=1.1.1->leafmap) (4.7.1)\n",
      "Requirement already satisfied: pyzmq>=13 in c:\\users\\cooper\\anaconda3\\envs\\geo\\lib\\site-packages (from jupyter-client<7.0->ipykernel>=4.5.1->ipywidgets<8,>=7.6.0->here-map-widget-for-jupyter>=1.1.1->leafmap) (22.2.0)\n",
      "Requirement already satisfied: pywin32>=1.0 in c:\\users\\cooper\\anaconda3\\envs\\geo\\lib\\site-packages (from jupyter-core>=4.6.0->jupyter-client<7.0->ipykernel>=4.5.1->ipywidgets<8,>=7.6.0->here-map-widget-for-jupyter>=1.1.1->leafmap) (300)\n",
      "Requirement already satisfied: ipython-genutils in c:\\users\\cooper\\anaconda3\\envs\\geo\\lib\\site-packages (from nbformat>=4.2.0->ipywidgets<8,>=7.6.0->here-map-widget-for-jupyter>=1.1.1->leafmap) (0.2.0)\n",
      "Requirement already satisfied: jsonschema!=2.5.0,>=2.4 in c:\\users\\cooper\\anaconda3\\envs\\geo\\lib\\site-packages (from nbformat>=4.2.0->ipywidgets<8,>=7.6.0->here-map-widget-for-jupyter>=1.1.1->leafmap) (3.2.0)\n",
      "Requirement already satisfied: six>=1.11.0 in c:\\users\\cooper\\anaconda3\\envs\\geo\\lib\\site-packages (from jsonschema!=2.5.0,>=2.4->nbformat>=4.2.0->ipywidgets<8,>=7.6.0->here-map-widget-for-jupyter>=1.1.1->leafmap) (1.16.0)\n",
      "Requirement already satisfied: pyrsistent>=0.14.0 in c:\\users\\cooper\\anaconda3\\envs\\geo\\lib\\site-packages (from jsonschema!=2.5.0,>=2.4->nbformat>=4.2.0->ipywidgets<8,>=7.6.0->here-map-widget-for-jupyter>=1.1.1->leafmap) (0.17.3)\n",
      "Requirement already satisfied: attrs>=17.4.0 in c:\\users\\cooper\\anaconda3\\envs\\geo\\lib\\site-packages (from jsonschema!=2.5.0,>=2.4->nbformat>=4.2.0->ipywidgets<8,>=7.6.0->here-map-widget-for-jupyter>=1.1.1->leafmap) (21.2.0)\n",
      "Requirement already satisfied: wcwidth in c:\\users\\cooper\\anaconda3\\envs\\geo\\lib\\site-packages (from prompt-toolkit!=3.0.0,!=3.0.1,<3.1.0,>=2.0.0->ipython>=4.0.0->ipywidgets<8,>=7.6.0->here-map-widget-for-jupyter>=1.1.1->leafmap) (0.2.5)\n",
      "Requirement already satisfied: notebook>=4.4.1 in c:\\users\\cooper\\anaconda3\\envs\\geo\\lib\\site-packages (from widgetsnbextension~=3.5.0->ipywidgets<8,>=7.6.0->here-map-widget-for-jupyter>=1.1.1->leafmap) (6.4.0)\n",
      "Requirement already satisfied: terminado>=0.8.3 in c:\\users\\cooper\\anaconda3\\envs\\geo\\lib\\site-packages (from notebook>=4.4.1->widgetsnbextension~=3.5.0->ipywidgets<8,>=7.6.0->here-map-widget-for-jupyter>=1.1.1->leafmap) (0.10.1)\n",
      "Requirement already satisfied: prometheus-client in c:\\users\\cooper\\anaconda3\\envs\\geo\\lib\\site-packages (from notebook>=4.4.1->widgetsnbextension~=3.5.0->ipywidgets<8,>=7.6.0->here-map-widget-for-jupyter>=1.1.1->leafmap) (0.11.0)\n",
      "Requirement already satisfied: Send2Trash>=1.5.0 in c:\\users\\cooper\\anaconda3\\envs\\geo\\lib\\site-packages (from notebook>=4.4.1->widgetsnbextension~=3.5.0->ipywidgets<8,>=7.6.0->here-map-widget-for-jupyter>=1.1.1->leafmap) (1.7.1)\n",
      "Requirement already satisfied: argon2-cffi in c:\\users\\cooper\\anaconda3\\envs\\geo\\lib\\site-packages (from notebook>=4.4.1->widgetsnbextension~=3.5.0->ipywidgets<8,>=7.6.0->here-map-widget-for-jupyter>=1.1.1->leafmap) (20.1.0)\n",
      "Requirement already satisfied: nbconvert in c:\\users\\cooper\\anaconda3\\envs\\geo\\lib\\site-packages (from notebook>=4.4.1->widgetsnbextension~=3.5.0->ipywidgets<8,>=7.6.0->here-map-widget-for-jupyter>=1.1.1->leafmap) (6.1.0)\n",
      "Requirement already satisfied: pywinpty>=1.1.0 in c:\\users\\cooper\\anaconda3\\envs\\geo\\lib\\site-packages (from terminado>=0.8.3->notebook>=4.4.1->widgetsnbextension~=3.5.0->ipywidgets<8,>=7.6.0->here-map-widget-for-jupyter>=1.1.1->leafmap) (1.1.3)\n",
      "Requirement already satisfied: cffi>=1.0.0 in c:\\users\\cooper\\anaconda3\\envs\\geo\\lib\\site-packages (from argon2-cffi->notebook>=4.4.1->widgetsnbextension~=3.5.0->ipywidgets<8,>=7.6.0->here-map-widget-for-jupyter>=1.1.1->leafmap) (1.14.6)\n",
      "Requirement already satisfied: pycparser in c:\\users\\cooper\\anaconda3\\envs\\geo\\lib\\site-packages (from cffi>=1.0.0->argon2-cffi->notebook>=4.4.1->widgetsnbextension~=3.5.0->ipywidgets<8,>=7.6.0->here-map-widget-for-jupyter>=1.1.1->leafmap) (2.20)\n",
      "Requirement already satisfied: traittypes>=0.0.6 in c:\\users\\cooper\\anaconda3\\envs\\geo\\lib\\site-packages (from bqplot->leafmap) (0.2.1)\n",
      "Requirement already satisfied: cycler>=0.10 in c:\\users\\cooper\\anaconda3\\envs\\geo\\lib\\site-packages (from matplotlib->leafmap) (0.10.0)\n",
      "Requirement already satisfied: pillow>=6.2.0 in c:\\users\\cooper\\anaconda3\\envs\\geo\\lib\\site-packages (from matplotlib->leafmap) (8.3.1)\n",
      "Requirement already satisfied: pyparsing>=2.2.1 in c:\\users\\cooper\\anaconda3\\envs\\geo\\lib\\site-packages (from matplotlib->leafmap) (2.4.7)\n",
      "Requirement already satisfied: kiwisolver>=1.0.1 in c:\\users\\cooper\\anaconda3\\envs\\geo\\lib\\site-packages (from matplotlib->leafmap) (1.3.1)\n",
      "Requirement already satisfied: testpath in c:\\users\\cooper\\anaconda3\\envs\\geo\\lib\\site-packages (from nbconvert->notebook>=4.4.1->widgetsnbextension~=3.5.0->ipywidgets<8,>=7.6.0->here-map-widget-for-jupyter>=1.1.1->leafmap) (0.5.0)\n",
      "Requirement already satisfied: pandocfilters>=1.4.1 in c:\\users\\cooper\\anaconda3\\envs\\geo\\lib\\site-packages (from nbconvert->notebook>=4.4.1->widgetsnbextension~=3.5.0->ipywidgets<8,>=7.6.0->here-map-widget-for-jupyter>=1.1.1->leafmap) (1.4.2)\n",
      "Requirement already satisfied: bleach in c:\\users\\cooper\\anaconda3\\envs\\geo\\lib\\site-packages (from nbconvert->notebook>=4.4.1->widgetsnbextension~=3.5.0->ipywidgets<8,>=7.6.0->here-map-widget-for-jupyter>=1.1.1->leafmap) (4.0.0)\n",
      "Requirement already satisfied: jupyterlab-pygments in c:\\users\\cooper\\anaconda3\\envs\\geo\\lib\\site-packages (from nbconvert->notebook>=4.4.1->widgetsnbextension~=3.5.0->ipywidgets<8,>=7.6.0->here-map-widget-for-jupyter>=1.1.1->leafmap) (0.1.2)\n",
      "Requirement already satisfied: mistune<2,>=0.8.1 in c:\\users\\cooper\\anaconda3\\envs\\geo\\lib\\site-packages (from nbconvert->notebook>=4.4.1->widgetsnbextension~=3.5.0->ipywidgets<8,>=7.6.0->here-map-widget-for-jupyter>=1.1.1->leafmap) (0.8.4)\n",
      "Requirement already satisfied: defusedxml in c:\\users\\cooper\\anaconda3\\envs\\geo\\lib\\site-packages (from nbconvert->notebook>=4.4.1->widgetsnbextension~=3.5.0->ipywidgets<8,>=7.6.0->here-map-widget-for-jupyter>=1.1.1->leafmap) (0.7.1)\n",
      "Requirement already satisfied: entrypoints>=0.2.2 in c:\\users\\cooper\\anaconda3\\envs\\geo\\lib\\site-packages (from nbconvert->notebook>=4.4.1->widgetsnbextension~=3.5.0->ipywidgets<8,>=7.6.0->here-map-widget-for-jupyter>=1.1.1->leafmap) (0.3)\n",
      "Requirement already satisfied: nbclient<0.6.0,>=0.5.0 in c:\\users\\cooper\\anaconda3\\envs\\geo\\lib\\site-packages (from nbconvert->notebook>=4.4.1->widgetsnbextension~=3.5.0->ipywidgets<8,>=7.6.0->here-map-widget-for-jupyter>=1.1.1->leafmap) (0.5.3)\n",
      "Requirement already satisfied: nest-asyncio in c:\\users\\cooper\\anaconda3\\envs\\geo\\lib\\site-packages (from nbclient<0.6.0,>=0.5.0->nbconvert->notebook>=4.4.1->widgetsnbextension~=3.5.0->ipywidgets<8,>=7.6.0->here-map-widget-for-jupyter>=1.1.1->leafmap) (1.5.1)\n",
      "Requirement already satisfied: async-generator in c:\\users\\cooper\\anaconda3\\envs\\geo\\lib\\site-packages (from nbclient<0.6.0,>=0.5.0->nbconvert->notebook>=4.4.1->widgetsnbextension~=3.5.0->ipywidgets<8,>=7.6.0->here-map-widget-for-jupyter>=1.1.1->leafmap) (1.10)\n",
      "Requirement already satisfied: webencodings in c:\\users\\cooper\\anaconda3\\envs\\geo\\lib\\site-packages (from bleach->nbconvert->notebook>=4.4.1->widgetsnbextension~=3.5.0->ipywidgets<8,>=7.6.0->here-map-widget-for-jupyter>=1.1.1->leafmap) (0.5.1)\n",
      "Requirement already satisfied: packaging in c:\\users\\cooper\\anaconda3\\envs\\geo\\lib\\site-packages (from bleach->nbconvert->notebook>=4.4.1->widgetsnbextension~=3.5.0->ipywidgets<8,>=7.6.0->here-map-widget-for-jupyter>=1.1.1->leafmap) (21.0)\n",
      "Requirement already satisfied: pytz>=2017.3 in c:\\users\\cooper\\anaconda3\\envs\\geo\\lib\\site-packages (from pandas->leafmap) (2021.1)\n",
      "Requirement already satisfied: charset-normalizer~=2.0.0 in c:\\users\\cooper\\anaconda3\\envs\\geo\\lib\\site-packages (from requests->folium>=0.12.0->leafmap) (2.0.0)\n",
      "Requirement already satisfied: idna<4,>=2.5 in c:\\users\\cooper\\anaconda3\\envs\\geo\\lib\\site-packages (from requests->folium>=0.12.0->leafmap) (3.1)\n",
      "Requirement already satisfied: certifi>=2017.4.17 in c:\\users\\cooper\\anaconda3\\envs\\geo\\lib\\site-packages (from requests->folium>=0.12.0->leafmap) (2021.5.30)\n",
      "Requirement already satisfied: urllib3<1.27,>=1.21.1 in c:\\users\\cooper\\anaconda3\\envs\\geo\\lib\\site-packages (from requests->folium>=0.12.0->leafmap) (1.26.6)\n",
      "Requirement already satisfied: Click>=6.0 in c:\\users\\cooper\\anaconda3\\envs\\geo\\lib\\site-packages (from whitebox->leafmap) (7.1.2)\n",
      "Requirement already satisfied: ipyfilechooser in c:\\users\\cooper\\anaconda3\\envs\\geo\\lib\\site-packages (from whiteboxgui->leafmap) (0.4.4)\n",
      "Requirement already satisfied: ipytree in c:\\users\\cooper\\anaconda3\\envs\\geo\\lib\\site-packages (from whiteboxgui->leafmap) (0.2.1)\n"
     ]
    }
   ],
   "source": [
    "!pip install leafmap"
   ]
  },
  {
   "cell_type": "code",
   "execution_count": 2,
   "id": "8eb9472a",
   "metadata": {},
   "outputs": [],
   "source": [
    "import leafmap"
   ]
  },
  {
   "cell_type": "code",
   "execution_count": 7,
   "id": "6cfc2d0e",
   "metadata": {},
   "outputs": [
    {
     "data": {
      "application/vnd.jupyter.widget-view+json": {
       "model_id": "5c76013c1e954fe2ba2fa75035efb4cc",
       "version_major": 2,
       "version_minor": 0
      },
      "text/plain": [
       "Map(center=[29.7452, -93.8833], controls=(ZoomControl(options=['position', 'zoom_in_text', 'zoom_in_title', 'z…"
      ]
     },
     "metadata": {},
     "output_type": "display_data"
    }
   ],
   "source": [
    "mwetlands = leafmap.Map(center=(29.7452, -93.8833), zoom=12)\n",
    "\n",
    "mwetlands.add_basemap('FWS NWI Wetlands')\n",
    "\n",
    "# fws_url = 'https://services.nationalmap.gov/arcgis/services/USGSNAIPImagery/ImageServer/WMSServer?'\n",
    "# mwetlands.add_wms_layer(url=fws_url, layers='0', name='FWS NWI Wetlands', format='image/png', shown=True)\n",
    "\n",
    "mwetlands.add_legend(builtin_legend='NWI')\n",
    "# fm.Marker([29.7541, -93.8739], popup=\"Sabine Pass LNG\").add_to(mwetlands)\n",
    "mwetlands"
   ]
  },
  {
   "cell_type": "code",
   "execution_count": null,
   "id": "fa6a4efa",
   "metadata": {},
   "outputs": [],
   "source": []
  }
 ],
 "metadata": {
  "kernelspec": {
   "display_name": "Python 3 (ipykernel)",
   "language": "python",
   "name": "python3"
  },
  "language_info": {
   "codemirror_mode": {
    "name": "ipython",
    "version": 3
   },
   "file_extension": ".py",
   "mimetype": "text/x-python",
   "name": "python",
   "nbconvert_exporter": "python",
   "pygments_lexer": "ipython3",
   "version": "3.8.10"
  }
 },
 "nbformat": 4,
 "nbformat_minor": 5
}

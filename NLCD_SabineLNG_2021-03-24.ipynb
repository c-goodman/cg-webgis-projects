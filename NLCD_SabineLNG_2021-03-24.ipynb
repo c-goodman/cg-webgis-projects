{
 "cells": [
  {
   "cell_type": "code",
   "execution_count": 50,
   "id": "alternate-roommate",
   "metadata": {},
   "outputs": [],
   "source": [
    "import geemap\n",
    "import ee\n",
    "import os"
   ]
  },
  {
   "cell_type": "code",
   "execution_count": 6,
   "id": "composite-voltage",
   "metadata": {},
   "outputs": [],
   "source": [
    "# Initialize Earth Engine\n",
    "ee.Initialize()"
   ]
  },
  {
   "cell_type": "code",
   "execution_count": null,
   "id": "affected-trial",
   "metadata": {},
   "outputs": [],
   "source": [
    "# geemap.update_package()"
   ]
  },
  {
   "cell_type": "code",
   "execution_count": 2,
   "id": "indoor-subsection",
   "metadata": {},
   "outputs": [
    {
     "data": {
      "text/plain": [
       "'G:\\\\Shared drives\\\\642\\\\gis'"
      ]
     },
     "execution_count": 2,
     "metadata": {},
     "output_type": "execute_result"
    }
   ],
   "source": [
    "# Change directory to the google drive\n",
    "os.chdir(r\"G:\\Shared drives\\642\\gis\")\n",
    "os.getcwd()"
   ]
  },
  {
   "cell_type": "code",
   "execution_count": 9,
   "id": "qualified-dimension",
   "metadata": {},
   "outputs": [],
   "source": [
    "# Set the shp to an Earth Engine object\n",
    "tracts = geemap.shp_to_ee('all-counties-tracts-join.shp')"
   ]
  },
  {
   "cell_type": "code",
   "execution_count": 31,
   "id": "suspended-surface",
   "metadata": {},
   "outputs": [],
   "source": [
    "# NLCD dictionary for color values\n",
    "\n",
    "NLCD_dict = {\n",
    "    '11 Open Water': '466b9f',\n",
    "    '12 Perennial Ice/Snow': 'd1def8',\n",
    "    '21 Developed, Open Space': 'dec5c5',\n",
    "    '22 Developed, Low Intensity': 'd99282',\n",
    "    '23 Developed, Medium Intensity': 'eb0000',\n",
    "    '24 Developed High Intensity': 'ab0000',\n",
    "    '31 Barren Land (Rock/Sand/Clay)': 'b3ac9f',\n",
    "    '41 Deciduous Forest': '68ab5f',\n",
    "    '42 Evergreen Forest': '1c5f2c',\n",
    "    '43 Mixed Forest': 'b5c58f',\n",
    "    '51 Dwarf Scrub': 'af963c',\n",
    "    '52 Shrub/Scrub': 'ccb879',\n",
    "    '71 Grassland/Herbaceous': 'dfdfc2',\n",
    "    '72 Sedge/Herbaceous': 'd1d182',\n",
    "    '73 Lichens': 'a3cc51',\n",
    "    '74 Moss': '82ba9e',\n",
    "    '81 Pasture/Hay': 'dcd939',\n",
    "    '82 Cultivated Crops': 'ab6c28',\n",
    "    '90 Woody Wetlands': 'b8d9eb',\n",
    "    '95 Emergent Herbaceous Wetlands': '6c9fb8'\n",
    "}"
   ]
  },
  {
   "cell_type": "code",
   "execution_count": 56,
   "id": "global-symphony",
   "metadata": {
    "scrolled": false
   },
   "outputs": [
    {
     "data": {
      "application/vnd.jupyter.widget-view+json": {
       "model_id": "31f35507fde04b858304e3cf5b8b6adc",
       "version_major": 2,
       "version_minor": 0
      },
      "text/plain": [
       "Map(center=[29.7452, -93.8833], controls=(WidgetControl(options=['position', 'transparent_bg'], widget=HBox(ch…"
      ]
     },
     "metadata": {},
     "output_type": "display_data"
    }
   ],
   "source": [
    "Map = geemap.Map()\n",
    "\n",
    "Map.add_basemap('HYBRID')\n",
    "landcover = ee.Image('USGS/NLCD/NLCD2016').select('landcover')\n",
    "Map.addLayer(landcover, NLCD_dict, 'NLCD Land Cover')\n",
    "Map.add_legend(legend_dict = NLCD_dict)\n",
    "Map.addLayer(tracts, {}, 'Census Tracts')\n",
    "Map.setCenter(-93.8833, 29.7452, zoom=12) # Centers the map on Sabine Pass\n",
    "\n",
    "\n",
    "Map"
   ]
  },
  {
   "cell_type": "code",
   "execution_count": 57,
   "id": "expired-february",
   "metadata": {},
   "outputs": [
    {
     "name": "stdout",
     "output_type": "stream",
     "text": [
      "Bands: ee.List({\n",
      "  \"functionInvocationValue\": {\n",
      "    \"functionName\": \"Image.bandNames\",\n",
      "    \"arguments\": {\n",
      "      \"image\": {\n",
      "        \"functionInvocationValue\": {\n",
      "          \"functionName\": \"Image.select\",\n",
      "          \"arguments\": {\n",
      "            \"bandSelectors\": {\n",
      "              \"constantValue\": [\n",
      "                \"landcover\"\n",
      "              ]\n",
      "            },\n",
      "            \"input\": {\n",
      "              \"functionInvocationValue\": {\n",
      "                \"functionName\": \"Image.load\",\n",
      "                \"arguments\": {\n",
      "                  \"id\": {\n",
      "                    \"constantValue\": \"USGS/NLCD/NLCD2016\"\n",
      "                  }\n",
      "                }\n",
      "              }\n",
      "            }\n",
      "          }\n",
      "        }\n",
      "      }\n",
      "    }\n",
      "  }\n",
      "})\n"
     ]
    }
   ],
   "source": [
    "print('Bands:', landcover.bandNames())"
   ]
  },
  {
   "cell_type": "code",
   "execution_count": 11,
   "id": "verbal-closer",
   "metadata": {},
   "outputs": [],
   "source": [
    "# Set up the geometry of the shapefile to make the selection\n",
    "roi = tracts.geometry()\n",
    "\n",
    "# Set the output directory\n",
    "out_dir = (r\"C:\\Users\\Cooper\\geemap-notebooks\\tiff\")\n",
    "filename = os.path.join(out_dir, 'NLCD-Sabine-Tracts.tif')"
   ]
  },
  {
   "cell_type": "code",
   "execution_count": 12,
   "id": "frozen-envelope",
   "metadata": {},
   "outputs": [
    {
     "name": "stdout",
     "output_type": "stream",
     "text": [
      "Generating URL ...\n",
      "Downloading data from https://earthengine.googleapis.com/v1alpha/projects/earthengine-legacy/thumbnails/a13c394c8708ef8ebe03ce155445feda-d9a380dda106d9c1651d6abb46cafff6:getPixels\n",
      "Please wait ...\n",
      "Data downloaded to C:\\Users\\Cooper\\geemap-notebooks\\tiff\\NLCD-Sabine-Tracts.tif\n"
     ]
    }
   ],
   "source": [
    "# Make and export the selection from the Earth Engine NLCD Dataset\n",
    "geemap.ee_export_image(landcover, filename=filename, scale=30, region=roi, file_per_band=False)"
   ]
  },
  {
   "cell_type": "code",
   "execution_count": 60,
   "id": "enclosed-distinction",
   "metadata": {},
   "outputs": [],
   "source": [
    "os.chdir(r\"C:\\Users\\Cooper\\geemap-notebooks\\tiff\")\n",
    "raster = \"NLCD-Sabine-Tracts.tif\""
   ]
  },
  {
   "cell_type": "code",
   "execution_count": 48,
   "id": "expressed-panel",
   "metadata": {},
   "outputs": [],
   "source": [
    "# import geemap.eefolium as geemap"
   ]
  },
  {
   "cell_type": "code",
   "execution_count": 62,
   "id": "insured-metadata",
   "metadata": {},
   "outputs": [
    {
     "data": {
      "application/vnd.jupyter.widget-view+json": {
       "model_id": "143ffb12a07b463a9103b2d92f22a7ba",
       "version_major": 2,
       "version_minor": 0
      },
      "text/plain": [
       "Map(center=[40, -100], controls=(WidgetControl(options=['position', 'transparent_bg'], widget=HBox(children=(T…"
      ]
     },
     "metadata": {},
     "output_type": "display_data"
    }
   ],
   "source": [
    "Map = geemap.Map()\n",
    "\n",
    "Map.add_raster(raster, bands=landcover , layer_name=\"NLCD 2016\")\n",
    "\n",
    "Map"
   ]
  }
 ],
 "metadata": {
  "kernelspec": {
   "display_name": "Python 3",
   "language": "python",
   "name": "python3"
  },
  "language_info": {
   "codemirror_mode": {
    "name": "ipython",
    "version": 3
   },
   "file_extension": ".py",
   "mimetype": "text/x-python",
   "name": "python",
   "nbconvert_exporter": "python",
   "pygments_lexer": "ipython3",
   "version": "3.9.2"
  }
 },
 "nbformat": 4,
 "nbformat_minor": 5
}
